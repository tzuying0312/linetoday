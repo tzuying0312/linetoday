{
 "cells": [
  {
   "cell_type": "code",
   "execution_count": null,
   "metadata": {},
   "outputs": [],
   "source": [
    "import requests\n",
    "import pandas as pd \n",
    "from bs4 import BeautifulSoup\n",
    "url_list = []\n",
    "source = []\n",
    "title = []\n",
    "\n",
    "url = 'https://today.line.me/tw/v2/tab/domestic'\n",
    "res = requests.get(url)\n",
    "soup = BeautifulSoup(res.text,\"lxml\")"
   ]
  },
  {
   "cell_type": "code",
   "execution_count": null,
   "metadata": {},
   "outputs": [],
   "source": [
    "detail = soup.find_all('a',class_='articleCard articleCard--horizontal')"
   ]
  },
  {
   "cell_type": "code",
   "execution_count": null,
   "metadata": {},
   "outputs": [],
   "source": [
    "for i in detail:\n",
    "    temp = i.getText().split('\\n')[1:]\n",
    "    url_list.append(i['href'])\n",
    "    title.append(temp[0])\n",
    "    source.append(temp[1])"
   ]
  },
  {
   "cell_type": "code",
   "execution_count": null,
   "metadata": {},
   "outputs": [],
   "source": [
    "detail_dict = {\"url\": url_list,  \n",
    "        \"source\": source,\n",
    "        \"title\":title\n",
    "       }\n",
    "\n",
    "detail_df = pd.DataFrame(detail_dict)"
   ]
  },
  {
   "cell_type": "code",
   "execution_count": null,
   "metadata": {},
   "outputs": [],
   "source": [
    "detail_df"
   ]
  },
  {
   "cell_type": "code",
   "execution_count": null,
   "metadata": {},
   "outputs": [],
   "source": [
    "import json\n",
    "with open('output.json') as f:\n",
    "    txt = json.loads(f.read())"
   ]
  },
  {
   "cell_type": "code",
   "execution_count": null,
   "metadata": {},
   "outputs": [],
   "source": [
    "from datetime import datetime\n",
    "publishTime_list = (txt.replace('publishTimeUnix:','  ').split('  '))[-3:]\n",
    "for i in publishTime_list:\n",
    "    publishTime = i.split('000,contentType')[0]\n",
    "    publishTime = datetime.fromtimestamp(int(publishTime))\n",
    "    print(publishTime)\n",
    "    "
   ]
  },
  {
   "cell_type": "code",
   "execution_count": null,
   "metadata": {},
   "outputs": [],
   "source": []
  }
 ],
 "metadata": {
  "kernelspec": {
   "display_name": "Python 3",
   "language": "python",
   "name": "python3"
  },
  "language_info": {
   "codemirror_mode": {
    "name": "ipython",
    "version": 3
   },
   "file_extension": ".py",
   "mimetype": "text/x-python",
   "name": "python",
   "nbconvert_exporter": "python",
   "pygments_lexer": "ipython3",
   "version": "3.7.6"
  }
 },
 "nbformat": 4,
 "nbformat_minor": 4
}
