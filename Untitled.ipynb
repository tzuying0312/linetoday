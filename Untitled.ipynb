{
 "cells": [
  {
   "cell_type": "code",
   "execution_count": 1,
   "metadata": {},
   "outputs": [],
   "source": [
    "import requests\n",
    "import pandas as pd \n",
    "from bs4 import BeautifulSoup\n",
    "url_list = []\n",
    "source = []\n",
    "title = []\n",
    "\n",
    "url = 'https://today.line.me/tw/v2/tab/domestic'\n",
    "res = requests.get(url)\n",
    "soup = BeautifulSoup(res.text,\"lxml\")"
   ]
  },
  {
   "cell_type": "code",
   "execution_count": 2,
   "metadata": {},
   "outputs": [],
   "source": [
    "detail = soup.find_all('a',class_='articleCard articleCard--horizontal')"
   ]
  },
  {
   "cell_type": "code",
   "execution_count": 3,
   "metadata": {},
   "outputs": [],
   "source": [
    "for i in detail:\n",
    "    temp = i.getText().split('\\n')[1:]\n",
    "    url_list.append(i['href'])\n",
    "    title.append(temp[0])\n",
    "    source.append(temp[1])"
   ]
  },
  {
   "cell_type": "code",
   "execution_count": 4,
   "metadata": {},
   "outputs": [],
   "source": [
    "detail_dict = {\"url\": url_list,  \n",
    "        \"source\": source,\n",
    "        \"title\":title\n",
    "       }\n",
    "\n",
    "detail_df = pd.DataFrame(detail_dict)"
   ]
  },
  {
   "cell_type": "code",
   "execution_count": 5,
   "metadata": {},
   "outputs": [
    {
     "data": {
      "text/html": [
       "<div>\n",
       "<style scoped>\n",
       "    .dataframe tbody tr th:only-of-type {\n",
       "        vertical-align: middle;\n",
       "    }\n",
       "\n",
       "    .dataframe tbody tr th {\n",
       "        vertical-align: top;\n",
       "    }\n",
       "\n",
       "    .dataframe thead th {\n",
       "        text-align: right;\n",
       "    }\n",
       "</style>\n",
       "<table border=\"1\" class=\"dataframe\">\n",
       "  <thead>\n",
       "    <tr style=\"text-align: right;\">\n",
       "      <th></th>\n",
       "      <th>url</th>\n",
       "      <th>source</th>\n",
       "      <th>title</th>\n",
       "    </tr>\n",
       "  </thead>\n",
       "  <tbody>\n",
       "    <tr>\n",
       "      <th>0</th>\n",
       "      <td>https://today.line.me/tw/v2/article/%E9%99%B3%...</td>\n",
       "      <td>鏡週刊</td>\n",
       "      <td>陳盈助1.5億具保先返家 否認與國內賭博機房有關</td>\n",
       "    </tr>\n",
       "    <tr>\n",
       "      <th>1</th>\n",
       "      <td>https://today.line.me/tw/v2/article/%E6%8C%87%...</td>\n",
       "      <td>聯合新聞網</td>\n",
       "      <td>指購物專家「瀞涵」是小三被訴 名媛李珍妮反控求償300萬</td>\n",
       "    </tr>\n",
       "    <tr>\n",
       "      <th>2</th>\n",
       "      <td>https://today.line.me/tw/v2/article/7%E6%97%AC...</td>\n",
       "      <td>民視新聞網</td>\n",
       "      <td>7旬翁金山公共浴室泡湯 突昏厥送醫急救</td>\n",
       "    </tr>\n",
       "  </tbody>\n",
       "</table>\n",
       "</div>"
      ],
      "text/plain": [
       "                                                 url           source  \\\n",
       "0  https://today.line.me/tw/v2/article/%E9%99%B3%...           鏡週刊      \n",
       "1  https://today.line.me/tw/v2/article/%E6%8C%87%...         聯合新聞網      \n",
       "2  https://today.line.me/tw/v2/article/7%E6%97%AC...         民視新聞網      \n",
       "\n",
       "                                  title  \n",
       "0              陳盈助1.5億具保先返家 否認與國內賭博機房有關  \n",
       "1          指購物專家「瀞涵」是小三被訴 名媛李珍妮反控求償300萬  \n",
       "2                   7旬翁金山公共浴室泡湯 突昏厥送醫急救  "
      ]
     },
     "execution_count": 5,
     "metadata": {},
     "output_type": "execute_result"
    }
   ],
   "source": [
    "detail_df"
   ]
  },
  {
   "cell_type": "code",
   "execution_count": null,
   "metadata": {},
   "outputs": [],
   "source": []
  }
 ],
 "metadata": {
  "kernelspec": {
   "display_name": "Python 3",
   "language": "python",
   "name": "python3"
  },
  "language_info": {
   "codemirror_mode": {
    "name": "ipython",
    "version": 3
   },
   "file_extension": ".py",
   "mimetype": "text/x-python",
   "name": "python",
   "nbconvert_exporter": "python",
   "pygments_lexer": "ipython3",
   "version": "3.7.6"
  }
 },
 "nbformat": 4,
 "nbformat_minor": 4
}
